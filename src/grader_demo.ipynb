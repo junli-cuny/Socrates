{
 "cells": [
  {
   "cell_type": "markdown",
   "metadata": {},
   "source": [
    "# Socrates Assignment Grader (Interactive)"
   ]
  },
  {
   "cell_type": "markdown",
   "metadata": {},
   "source": [
    "### Step 1: Initialize the Grader"
   ]
  },
  {
   "cell_type": "code",
   "execution_count": null,
   "metadata": {},
   "source": [
    "from Grader import Grader\n",
    "import ipywidgets as widgets\n",
    "from IPython.display import display\n",
    "\n",
    "g = Grader()\n",
    "g.set_model(\"gpt-4o-mini\")\n",
    "print(\"Grader initialized.\")"
   ]
  },
  {
   "cell_type": "markdown",
   "metadata": {},
   "source": [
    "### Step 2: Load the Master Assignment File\n",
    "\n",
    "Specify the path to the original question JSON file. This will be used as the source of truth for grading."
   ]
  },
  {
   "cell_type": "code",
   "execution_count": null,
   "metadata": {},
   "source": [
    "assignment_path_widget = widgets.Text(\n",
    "    value='src/example_question_file.json', \n",
    "    placeholder='Type path to assignment JSON',\n",
    "    description='Assignment:',\n",
    "    disabled=False,\n",
    "    style={'description_width': 'initial'}\n",
    ")\n",
    "\n",
    "def on_load_button_clicked(b):\n",
    "    g.load_assignment(assignment_path_widget.value)\n",
    "\n",
    "load_button = widgets.Button(description=\"Load Assignment\")\n",
    "load_button.on_click(on_load_button_clicked)\n",
    "\n",
    "display(assignment_path_widget, load_button)"
   ]
  },
  {
   "cell_type": "markdown",
   "metadata": {},
   "source": [
    "### Step 3: Upload Student Submissions\n",
    "\n",
    "Use the button below to upload one or more `answers_...json` files."
   ]
  },
  {
   "cell_type": "code",
   "execution_count": null,
   "metadata": {},
   "source": [
    "g.create_upload_button()"
   ]
  },
  {
   "cell_type": "markdown",
   "metadata": {},
   "source": [
    "### Step 4: Run the Grading Process\n",
    "\n",
    "Click the button below to start grading. Results will be saved to `grading_results.json` in the `src` folder."
   ]
  },
  {
   "cell_type": "code",
   "execution_count": null,
   "metadata": {},
   "source": [
    "g.run()"
   ]
  }
 ],
 "metadata": {
  "kernelspec": {
   "display_name": "Python 3 (ipykernel)",
   "language": "python",
   "name": "python3"
  },
  "language_info": {
   "codemirror_mode": {
    "name": "ipython",
    "version": 3
   },
   "file_extension": ".py",
   "mimetype": "text/x-python",
   "name": "python",
   "nbconvert_exporter": "python",
   "pygments_lexer": "ipython3",
   "version": "3.11.1"
  }
 },
 "nbformat": 4,
 "nbformat_minor": 4
}
